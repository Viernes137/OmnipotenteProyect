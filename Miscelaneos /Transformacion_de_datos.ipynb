{
 "cells": [
  {
   "cell_type": "code",
   "execution_count": 1,
   "metadata": {},
   "outputs": [],
   "source": [
    "import osmnx as ox"
   ]
  },
  {
   "cell_type": "code",
   "execution_count": null,
   "metadata": {},
   "outputs": [],
   "source": [
    "# Descargar red vial de Benito Juárez\n",
    "G = ox.graph_from_place(\"03920 , Benito Juárez, Ciudad de México, Mexico\", network_type='drive')\n",
    "# Convertir a GeoDataFrame con segmentos\n",
    "edges = ox.graph_to_gdfs(G, nodes=False)\n",
    "# Guardar como GeoJSON\n",
    "edges.to_file(\"benito_juarez_segmentos.geojson\", driver='GeoJSON')\n"
   ]
  },
  {
   "cell_type": "code",
   "execution_count": 5,
   "metadata": {},
   "outputs": [],
   "source": [
    "G2 = ox.graph_from_place(\"14230 , Tlalpan, Ciudad de México, Mexico\", network_type='drive')\n",
    "# Convertir a GeoDataFrame con segmentos\n",
    "edges2 = ox.graph_to_gdfs(G2, nodes=False)\n",
    "# Guardar como GeoJSON\n",
    "edges2.to_file(\"casa_segmentos.geojson\", driver='GeoJSON')"
   ]
  },
  {
   "cell_type": "code",
   "execution_count": 6,
   "metadata": {},
   "outputs": [],
   "source": [
    "G3 = ox.graph_from_place(\"14100 , Tlalpan, Ciudad de México, Mexico\", network_type='drive')\n",
    "# Convertir a GeoDataFrame con segmentos\n",
    "edges3 = ox.graph_to_gdfs(G3, nodes=False)\n",
    "# Guardar como GeoJSON\n",
    "edges3.to_file(\"casa2.geojson\", driver='GeoJSON')"
   ]
  },
  {
   "cell_type": "code",
   "execution_count": null,
   "metadata": {},
   "outputs": [],
   "source": [
    "G3 = ox.graph_from_place(\"Tlalpan, Ciudad de México, Mexico\", network_type='drive')\n",
    "edges3 = ox.graph_to_gdfs(G3, nodes=False)\n",
    "edges3.to_file(\"Tlalpan.geojson\", driver='GeoJSON')"
   ]
  },
  {
   "cell_type": "code",
   "execution_count": 2,
   "metadata": {},
   "outputs": [],
   "source": [
    "col = [\"03910\",\"03700\",\"03740\",\"03730\",\"03720\",\"03200\",\"03900\",\"03104\",\"03230\"]\n",
    "for n in col:\n",
    "    G3 = ox.graph_from_place(f\"{n}, Benito Juárez, Ciudad de México, Mexico\", network_type='drive')\n",
    "    edges3 = ox.graph_to_gdfs(G3, nodes=False)\n",
    "    edges3.to_file(f\"{n}.geojson\", driver='GeoJSON')"
   ]
  },
  {
   "cell_type": "code",
   "execution_count": null,
   "metadata": {},
   "outputs": [],
   "source": [
    "colonias_benito_juarez = [\n",
    "    (\"8 de Agosto\", \"03820\"),\n",
    "    (\"Acacias\", \"03240\"),\n",
    "    (\"Actipan\", \"03230\"),\n",
    "    (\"Álamos\", \"03400\"),\n",
    "    (\"Albert\", \"03560\"),\n",
    "    (\"Américas Unidas\", \"03610\"),\n",
    "    (\"Ampliación Nápoles\", \"03840\"),\n",
    "    (\"Atenor Salas\", \"03010\"),\n",
    "    (\"Ciudad de los Deportes\", \"03710\"),\n",
    "    (\"Crédito Constructor\", \"03940\"),\n",
    "    (\"Del Carmen\", \"03540\"),\n",
    "    (\"Del Lago\", \"03640\"),\n",
    "    (\"Del Valle Centro\", \"03100\"),\n",
    "    (\"Del Valle Norte\", \"03103\"),\n",
    "    (\"Del Valle Sur\", \"03104\"),\n",
    "    (\"Ermita\", \"03590\"),\n",
    "    (\"Extremadura Insurgentes\", \"03740\"),\n",
    "    (\"General Pedro María Anaya\", \"03340\"),\n",
    "    (\"Independencia\", \"03630\"),\n",
    "    (\"Insurgentes Mixcoac\", \"03920\"),\n",
    "    (\"Insurgentes San Borja\", \"03100\"),\n",
    "    (\"Iztaccihuatl\", \"03520\"),\n",
    "    (\"Josefa Ortiz de Domínguez\", \"03430\"),\n",
    "    (\"Letrán Valle\", \"03650\"),\n",
    "    (\"Merced Gómez\", \"03930\"),\n",
    "    (\"Miguel Alemán\", \"03420\"),\n",
    "    (\"Miravalle\", \"03580\"),\n",
    "    (\"Mixcoac\", \"03910\"),\n",
    "    (\"Moderna\", \"03510\"),\n",
    "    (\"Nápoles\", \"03810\"),\n",
    "    (\"Narvarte Oriente\", \"03023\"),\n",
    "    (\"Narvarte Poniente\", \"03020\"),\n",
    "    (\"Nativitas\", \"03500\"),\n",
    "    (\"Niños Héroes\", \"03440\"),\n",
    "    (\"Nochebuena\", \"03720\"),\n",
    "    (\"Periodista\", \"03620\"),\n",
    "    (\"Piedad Narvarte\", \"03000\"),\n",
    "    (\"Portales Norte\", \"03303\"),\n",
    "    (\"Portales Oriente\", \"03570\"),\n",
    "    (\"Portales Sur\", \"03300\"),\n",
    "    (\"Postal\", \"03410\"),\n",
    "    (\"Residencial Emperadores\", \"03320\"),\n",
    "    (\"San José Insurgentes\", \"03900\"),\n",
    "    (\"San Juan\", \"03730\"),\n",
    "    (\"San Pedro de los Pinos\", \"03800\"),\n",
    "    (\"San Simón Ticumac\", \"03660\"),\n",
    "    (\"Santa Cruz Atoyac\", \"03310\"),\n",
    "    (\"Santa María Nonoalco\", \"03700\"),\n",
    "    (\"Tlacoquemécatl\", \"03200\"),\n",
    "    (\"Vértiz Narvarte\", \"03600\"),\n",
    "    (\"Villa de Cortés\", \"03530\"),\n",
    "    (\"Xoco\", \"03330\"),\n",
    "    (\"Zacahuitzco\", \"03550\"),\n",
    "]\n",
    "\n",
    "for Col,Cod in colonias_benito_juarez:\n",
    "    G3 = ox.graph_from_place(Cod+\", Benito Juárez, Ciudad de México, Mexico\", network_type='drive')\n",
    "    edges3 = ox.graph_to_gdfs(G3, nodes=False)\n",
    "    edges3.to_file(\"BJ_\"+Col+\".geojson\", driver='GeoJSON')\n"
   ]
  }
 ],
 "metadata": {
  "kernelspec": {
   "display_name": "ox",
   "language": "python",
   "name": "python3"
  },
  "language_info": {
   "codemirror_mode": {
    "name": "ipython",
    "version": 3
   },
   "file_extension": ".py",
   "mimetype": "text/x-python",
   "name": "python",
   "nbconvert_exporter": "python",
   "pygments_lexer": "ipython3",
   "version": "3.9.21"
  }
 },
 "nbformat": 4,
 "nbformat_minor": 2
}
