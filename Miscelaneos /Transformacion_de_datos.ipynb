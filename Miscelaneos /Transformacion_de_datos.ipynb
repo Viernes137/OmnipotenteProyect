{
 "cells": [
  {
   "cell_type": "code",
   "execution_count": null,
   "metadata": {},
   "outputs": [],
   "source": [
    "import osmnx as ox\n",
    "\n",
    "# Descargar red vial de Benito Juárez\n",
    "G = ox.graph_from_place(\"03920 , Benito Juárez, Ciudad de México, Mexico\", network_type='drive')\n",
    "# Convertir a GeoDataFrame con segmentos\n",
    "edges = ox.graph_to_gdfs(G, nodes=False)\n",
    "# Guardar como GeoJSON\n",
    "edges.to_file(\"benito_juarez_segmentos.geojson\", driver='GeoJSON')\n",
    "\n"
   ]
  },
  {
   "cell_type": "code",
   "execution_count": 5,
   "metadata": {},
   "outputs": [],
   "source": [
    "G2 = ox.graph_from_place(\"14230 , Tlalpan, Ciudad de México, Mexico\", network_type='drive')\n",
    "# Convertir a GeoDataFrame con segmentos\n",
    "edges2 = ox.graph_to_gdfs(G2, nodes=False)\n",
    "# Guardar como GeoJSON\n",
    "edges2.to_file(\"casa_segmentos.geojson\", driver='GeoJSON')"
   ]
  },
  {
   "cell_type": "code",
   "execution_count": 6,
   "metadata": {},
   "outputs": [],
   "source": [
    "G3 = ox.graph_from_place(\"14100 , Tlalpan, Ciudad de México, Mexico\", network_type='drive')\n",
    "# Convertir a GeoDataFrame con segmentos\n",
    "edges3 = ox.graph_to_gdfs(G3, nodes=False)\n",
    "# Guardar como GeoJSON\n",
    "edges3.to_file(\"casa2.geojson\", driver='GeoJSON')"
   ]
  }
 ],
 "metadata": {
  "kernelspec": {
   "display_name": "ox",
   "language": "python",
   "name": "python3"
  },
  "language_info": {
   "codemirror_mode": {
    "name": "ipython",
    "version": 3
   },
   "file_extension": ".py",
   "mimetype": "text/x-python",
   "name": "python",
   "nbconvert_exporter": "python",
   "pygments_lexer": "ipython3",
   "version": "3.9.21"
  }
 },
 "nbformat": 4,
 "nbformat_minor": 2
}
